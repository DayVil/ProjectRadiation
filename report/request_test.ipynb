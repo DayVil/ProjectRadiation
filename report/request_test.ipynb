{
 "cells": [
  {
   "cell_type": "code",
   "execution_count": 11,
   "metadata": {},
   "outputs": [
    {
     "data": {
      "text/plain": [
       "{'message': 'success',\n",
       " 'lat': 12.9889055,\n",
       " 'lng': 77.574044,\n",
       " 'data': [{'Count': {'grass_pollen': 41,\n",
       "    'tree_pollen': 209,\n",
       "    'weed_pollen': 20},\n",
       "   'Risk': {'grass_pollen': 'Moderate',\n",
       "    'tree_pollen': 'High',\n",
       "    'weed_pollen': 'Low'},\n",
       "   'updatedAt': '2022-05-10T14:48:21.000Z'}]}"
      ]
     },
     "execution_count": 11,
     "metadata": {},
     "output_type": "execute_result"
    }
   ],
   "source": [
    "import requests\n",
    "import json\n",
    "\n",
    "\n",
    "url = \"https://api.ambeedata.com/latest/pollen/by-lat-lng\"\n",
    "querystring = {\"lat\":\"12.9889055\",\"lng\":\"77.574044\"}\n",
    "headers = {\n",
    "    'x-api-key': '41ddddeba9dbcc2d51a219d98969449c6fce2419e82f97679a4167b6e0430044',\n",
    "    'Content-type': \"application/json\"\n",
    "}\n",
    "response = requests.request(\"GET\", url, headers = headers, params = querystring)\n",
    "js = response.json()\n",
    "js\n"
   ]
  }
 ],
 "metadata": {
  "interpreter": {
   "hash": "716fcda8c4c43dbac45d276fa145a68f21d0dffae768adf6ac342946a32c9774"
  },
  "kernelspec": {
   "display_name": "Python 3.10.0 64-bit",
   "language": "python",
   "name": "python3"
  },
  "language_info": {
   "codemirror_mode": {
    "name": "ipython",
    "version": 3
   },
   "file_extension": ".py",
   "mimetype": "text/x-python",
   "name": "python",
   "nbconvert_exporter": "python",
   "pygments_lexer": "ipython3",
   "version": "3.10.0"
  },
  "orig_nbformat": 4
 },
 "nbformat": 4,
 "nbformat_minor": 2
}
